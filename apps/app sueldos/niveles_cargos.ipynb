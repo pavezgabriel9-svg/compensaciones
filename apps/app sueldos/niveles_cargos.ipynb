{
 "cells": [
  {
   "cell_type": "code",
   "execution_count": 5,
   "metadata": {},
   "outputs": [],
   "source": [
    "import pandas as pd\n",
    "import matplotlib.pyplot as plt\n",
    "import numpy as np\n",
    "import seaborn as sns\n",
    "#from scipy.optimize import curve_fit\n",
    "#from scipy import stats\n",
    "#from collections import Counter\n",
    "from matplotlib import patheffects\n",
    "import matplotlib.patches as patches"
   ]
  },
  {
   "cell_type": "code",
   "execution_count": 32,
   "metadata": {},
   "outputs": [],
   "source": [
    "df_niveles_deborah = pd.read_excel(r\"C:\\Users\\gpavez\\Desktop\\Datos BUK Chile.xlsx\", sheet_name=\"Datos Api\")"
   ]
  },
  {
   "cell_type": "code",
   "execution_count": 33,
   "metadata": {},
   "outputs": [
    {
     "data": {
      "text/html": [
       "<div>\n",
       "<style scoped>\n",
       "    .dataframe tbody tr th:only-of-type {\n",
       "        vertical-align: middle;\n",
       "    }\n",
       "\n",
       "    .dataframe tbody tr th {\n",
       "        vertical-align: top;\n",
       "    }\n",
       "\n",
       "    .dataframe thead th {\n",
       "        text-align: right;\n",
       "    }\n",
       "</style>\n",
       "<table border=\"1\" class=\"dataframe\">\n",
       "  <thead>\n",
       "    <tr style=\"text-align: right;\">\n",
       "      <th></th>\n",
       "      <th>ID_Persona</th>\n",
       "      <th>RUT</th>\n",
       "      <th>Nombre</th>\n",
       "      <th>Género</th>\n",
       "      <th>Cargo</th>\n",
       "      <th>ID_Area</th>\n",
       "      <th>Nombre_Area</th>\n",
       "      <th>Primer_Nivel</th>\n",
       "      <th>Segundo_Nivel</th>\n",
       "      <th>Nivel_Jerarquico_Area</th>\n",
       "      <th>...</th>\n",
       "      <th>Salario_Mediana_Area</th>\n",
       "      <th>Masa_Salarial_Area</th>\n",
       "      <th>Desviacion_Estandar_Area</th>\n",
       "      <th>Posicion_Salarial_Area</th>\n",
       "      <th>Indice_Equidad</th>\n",
       "      <th>Nivel_Equidad_Area</th>\n",
       "      <th>Sueldo Actualizado</th>\n",
       "      <th>Nivel Actualizado</th>\n",
       "      <th>Aumento Pesos</th>\n",
       "      <th>Porcentaje Aumento</th>\n",
       "    </tr>\n",
       "  </thead>\n",
       "  <tbody>\n",
       "    <tr>\n",
       "      <th>0</th>\n",
       "      <td>4232</td>\n",
       "      <td>12357791-4</td>\n",
       "      <td>Cristian Transito Abarca Garrido</td>\n",
       "      <td>M</td>\n",
       "      <td>Operario</td>\n",
       "      <td>450</td>\n",
       "      <td>Fabricación Y Envasado Mezclas Polvos</td>\n",
       "      <td>CARLOS CRAMER PRODUCTOS AROMÁTICOS S.A. C.I.</td>\n",
       "      <td>Operaciones</td>\n",
       "      <td>Jefatura</td>\n",
       "      <td>...</td>\n",
       "      <td>630000</td>\n",
       "      <td>32003000</td>\n",
       "      <td>202644</td>\n",
       "      <td>Promedio</td>\n",
       "      <td>0.291</td>\n",
       "      <td>Moderada</td>\n",
       "      <td>730000</td>\n",
       "      <td>4</td>\n",
       "      <td>0</td>\n",
       "      <td>0.0</td>\n",
       "    </tr>\n",
       "  </tbody>\n",
       "</table>\n",
       "<p>1 rows × 33 columns</p>\n",
       "</div>"
      ],
      "text/plain": [
       "   ID_Persona         RUT                            Nombre Género     Cargo  \\\n",
       "0        4232  12357791-4  Cristian Transito Abarca Garrido      M  Operario   \n",
       "\n",
       "   ID_Area                            Nombre_Area  \\\n",
       "0      450  Fabricación Y Envasado Mezclas Polvos   \n",
       "\n",
       "                                   Primer_Nivel Segundo_Nivel  \\\n",
       "0  CARLOS CRAMER PRODUCTOS AROMÁTICOS S.A. C.I.   Operaciones   \n",
       "\n",
       "  Nivel_Jerarquico_Area  ... Salario_Mediana_Area  Masa_Salarial_Area  \\\n",
       "0              Jefatura  ...               630000            32003000   \n",
       "\n",
       "   Desviacion_Estandar_Area Posicion_Salarial_Area  Indice_Equidad  \\\n",
       "0                    202644               Promedio           0.291   \n",
       "\n",
       "  Nivel_Equidad_Area  Sueldo Actualizado  Nivel Actualizado  Aumento Pesos  \\\n",
       "0           Moderada              730000                  4              0   \n",
       "\n",
       "  Porcentaje Aumento  \n",
       "0                0.0  \n",
       "\n",
       "[1 rows x 33 columns]"
      ]
     },
     "execution_count": 33,
     "metadata": {},
     "output_type": "execute_result"
    }
   ],
   "source": [
    "df_niveles_deborah.head(10)"
   ]
  },
  {
   "cell_type": "code",
   "execution_count": 34,
   "metadata": {},
   "outputs": [
    {
     "data": {
      "text/plain": [
       "Index(['ID_Persona', 'RUT', 'Nombre', 'Género', 'Cargo', 'ID_Area',\n",
       "       'Nombre_Area', 'Primer_Nivel', 'Segundo_Nivel', 'Nivel_Jerarquico_Area',\n",
       "       'Tipo_Area', 'Centro_Costo_Area', 'Edad', 'Rango de Edad',\n",
       "       'Años de Servicio', 'Rango de Antigüedad', 'Antigüedad en Cargo',\n",
       "       'Sueldo Base', 'Es Jefe', 'Jefe Directo', 'Categoria_Empleado',\n",
       "       'Empleados_Total_Area', 'Salario_Promedio_Area', 'Salario_Mediana_Area',\n",
       "       'Masa_Salarial_Area', 'Desviacion_Estandar_Area',\n",
       "       'Posicion_Salarial_Area', 'Indice_Equidad', 'Nivel_Equidad_Area',\n",
       "       'Sueldo Actualizado', 'Nivel Actualizado', 'Aumento Pesos',\n",
       "       'Porcentaje Aumento'],\n",
       "      dtype='object')"
      ]
     },
     "execution_count": 34,
     "metadata": {},
     "output_type": "execute_result"
    }
   ],
   "source": [
    "df_niveles_deborah.columns\n"
   ]
  },
  {
   "cell_type": "code",
   "execution_count": 35,
   "metadata": {},
   "outputs": [
    {
     "name": "stdout",
     "output_type": "stream",
     "text": [
      "<class 'pandas.core.frame.DataFrame'>\n",
      "RangeIndex: 554 entries, 0 to 553\n",
      "Data columns (total 5 columns):\n",
      " #   Column             Non-Null Count  Dtype \n",
      "---  ------             --------------  ----- \n",
      " 0   Cargo              554 non-null    object\n",
      " 1   Segundo_Nivel      554 non-null    object\n",
      " 2   Sueldo Base        554 non-null    int64 \n",
      " 3   Jefe Directo       554 non-null    object\n",
      " 4   Nivel Actualizado  554 non-null    int64 \n",
      "dtypes: int64(2), object(3)\n",
      "memory usage: 21.8+ KB\n"
     ]
    }
   ],
   "source": [
    "df_niveles_deborah = df_niveles_deborah.drop(['ID_Persona', 'RUT', 'Nombre', 'Género', 'ID_Area',\n",
    "       'Nombre_Area', 'Primer_Nivel', 'Nivel_Jerarquico_Area',\n",
    "       'Tipo_Area', 'Centro_Costo_Area', 'Edad', 'Rango de Edad',\n",
    "       'Años de Servicio', 'Rango de Antigüedad', 'Antigüedad en Cargo','Es Jefe','Categoria_Empleado',\n",
    "       'Empleados_Total_Area', 'Salario_Promedio_Area', 'Salario_Mediana_Area',\n",
    "       'Masa_Salarial_Area', 'Desviacion_Estandar_Area',\n",
    "       'Posicion_Salarial_Area', 'Indice_Equidad', 'Nivel_Equidad_Area',\n",
    "       'Sueldo Actualizado','Aumento Pesos',\n",
    "       'Porcentaje Aumento'], axis=1)\n",
    "\n",
    "df_niveles_deborah.info()"
   ]
  },
  {
   "cell_type": "code",
   "execution_count": 36,
   "metadata": {},
   "outputs": [
    {
     "data": {
      "text/html": [
       "<div>\n",
       "<style scoped>\n",
       "    .dataframe tbody tr th:only-of-type {\n",
       "        vertical-align: middle;\n",
       "    }\n",
       "\n",
       "    .dataframe tbody tr th {\n",
       "        vertical-align: top;\n",
       "    }\n",
       "\n",
       "    .dataframe thead th {\n",
       "        text-align: right;\n",
       "    }\n",
       "</style>\n",
       "<table border=\"1\" class=\"dataframe\">\n",
       "  <thead>\n",
       "    <tr style=\"text-align: right;\">\n",
       "      <th></th>\n",
       "      <th>Cargo</th>\n",
       "      <th>Segundo_Nivel</th>\n",
       "      <th>Sueldo Base</th>\n",
       "      <th>Jefe Directo</th>\n",
       "      <th>Nivel Actualizado</th>\n",
       "    </tr>\n",
       "  </thead>\n",
       "  <tbody>\n",
       "    <tr>\n",
       "      <th>0</th>\n",
       "      <td>Operario</td>\n",
       "      <td>Operaciones</td>\n",
       "      <td>730000</td>\n",
       "      <td>Manuel Alejandro Gamboa Ramirez</td>\n",
       "      <td>4</td>\n",
       "    </tr>\n",
       "    <tr>\n",
       "      <th>1</th>\n",
       "      <td>Gestor de Servicios y Proyectos</td>\n",
       "      <td>Administración</td>\n",
       "      <td>2140000</td>\n",
       "      <td>Deborah Lissete Misraji Vaizer</td>\n",
       "      <td>7</td>\n",
       "    </tr>\n",
       "    <tr>\n",
       "      <th>2</th>\n",
       "      <td>Operario</td>\n",
       "      <td>Operaciones</td>\n",
       "      <td>1000000</td>\n",
       "      <td>Jairo Jose Melo Bustos</td>\n",
       "      <td>2</td>\n",
       "    </tr>\n",
       "    <tr>\n",
       "      <th>3</th>\n",
       "      <td>Supervisor De Planta</td>\n",
       "      <td>Operaciones</td>\n",
       "      <td>1386000</td>\n",
       "      <td>Nelsy Ariany Seijas Naranjo</td>\n",
       "      <td>6</td>\n",
       "    </tr>\n",
       "    <tr>\n",
       "      <th>4</th>\n",
       "      <td>Operario</td>\n",
       "      <td>Operaciones</td>\n",
       "      <td>640000</td>\n",
       "      <td>Manuel Alejandro Gamboa Ramirez</td>\n",
       "      <td>4</td>\n",
       "    </tr>\n",
       "  </tbody>\n",
       "</table>\n",
       "</div>"
      ],
      "text/plain": [
       "                             Cargo   Segundo_Nivel  Sueldo Base  \\\n",
       "0                         Operario     Operaciones       730000   \n",
       "1  Gestor de Servicios y Proyectos  Administración      2140000   \n",
       "2                         Operario     Operaciones      1000000   \n",
       "3             Supervisor De Planta     Operaciones      1386000   \n",
       "4                         Operario     Operaciones       640000   \n",
       "\n",
       "                      Jefe Directo  Nivel Actualizado  \n",
       "0  Manuel Alejandro Gamboa Ramirez                  4  \n",
       "1   Deborah Lissete Misraji Vaizer                  7  \n",
       "2           Jairo Jose Melo Bustos                  2  \n",
       "3      Nelsy Ariany Seijas Naranjo                  6  \n",
       "4  Manuel Alejandro Gamboa Ramirez                  4  "
      ]
     },
     "execution_count": 36,
     "metadata": {},
     "output_type": "execute_result"
    }
   ],
   "source": [
    "df_niveles_deborah.head()"
   ]
  },
  {
   "cell_type": "code",
   "execution_count": 50,
   "metadata": {},
   "outputs": [
    {
     "name": "stdout",
     "output_type": "stream",
     "text": [
      "             Área    Cargo  Nivel Mínimo  Nivel Máximo  Cantidad de Personas  \\\n",
      "0  Administración  Abogado             7             7                     1   \n",
      "\n",
      "   Cantidad de Niveles  \n",
      "0                    1  \n"
     ]
    }
   ],
   "source": [
    "niveles_por_cargo_deborah = (\n",
    "    df_niveles_deborah\n",
    "    .rename(columns={\"Segundo_Nivel\": \"Área\"})\n",
    "    .groupby([\"Área\", \"Cargo\"])[\"Nivel Actualizado\"]\n",
    "    .agg([\"min\", \"max\", \"count\"])  # Agregamos count aquí\n",
    "    .reset_index()\n",
    "    .rename(columns={\n",
    "        \"min\": \"Nivel Mínimo\",\n",
    "        \"max\": \"Nivel Máximo\",\n",
    "        \"count\": \"Cantidad de Personas\"\n",
    "    })\n",
    ")\n",
    "\n",
    "# Agregar columna de cantidad de niveles\n",
    "niveles_por_cargo_deborah[\"Cantidad de Niveles\"] = (\n",
    "    niveles_por_cargo_deborah[\"Nivel Máximo\"] - niveles_por_cargo_deborah[\"Nivel Mínimo\"] + 1\n",
    ")\n",
    "\n",
    "# Mostrar primer resultado como ejemplo\n",
    "print(niveles_por_cargo_deborah.head(1))"
   ]
  },
  {
   "cell_type": "code",
   "execution_count": 51,
   "metadata": {},
   "outputs": [],
   "source": [
    "# Exportar a un archivo Excel\n",
    "niveles_por_cargo_deborah.to_excel(\"niveles_por_cargo_deborah1.2.xlsx\", index=False)\n"
   ]
  },
  {
   "cell_type": "code",
   "execution_count": 44,
   "metadata": {},
   "outputs": [],
   "source": [
    "df_niveles_gabriel = pd.read_excel(r\"C:\\Users\\gpavez\\Desktop\\Datos BUK Chile.xlsx\",sheet_name=\"Niveles Asignados\")"
   ]
  },
  {
   "cell_type": "code",
   "execution_count": 45,
   "metadata": {},
   "outputs": [
    {
     "data": {
      "text/html": [
       "<div>\n",
       "<style scoped>\n",
       "    .dataframe tbody tr th:only-of-type {\n",
       "        vertical-align: middle;\n",
       "    }\n",
       "\n",
       "    .dataframe tbody tr th {\n",
       "        vertical-align: top;\n",
       "    }\n",
       "\n",
       "    .dataframe thead th {\n",
       "        text-align: right;\n",
       "    }\n",
       "</style>\n",
       "<table border=\"1\" class=\"dataframe\">\n",
       "  <thead>\n",
       "    <tr style=\"text-align: right;\">\n",
       "      <th></th>\n",
       "      <th>ID_Persona</th>\n",
       "      <th>RUT</th>\n",
       "      <th>Nombre</th>\n",
       "      <th>Primer_Nivel</th>\n",
       "      <th>Nombre_Area</th>\n",
       "      <th>Jefe Directo</th>\n",
       "      <th>Cargo</th>\n",
       "      <th>Centro_Costo_Area</th>\n",
       "      <th>Edad</th>\n",
       "      <th>Años de Servicio</th>\n",
       "      <th>Sueldo Base</th>\n",
       "      <th>Nivel</th>\n",
       "      <th>Posición Sub-Nivel</th>\n",
       "      <th>Posición En Nivel</th>\n",
       "    </tr>\n",
       "  </thead>\n",
       "  <tbody>\n",
       "    <tr>\n",
       "      <th>0</th>\n",
       "      <td>4232</td>\n",
       "      <td>12.357.791-4</td>\n",
       "      <td>Cristian Transito Abarca Garrido</td>\n",
       "      <td>CARLOS CRAMER PRODUCTOS AROMÁTICOS S.A. C.I.</td>\n",
       "      <td>Fabricación Y Envasado Mezclas Polvos</td>\n",
       "      <td>Manuel Alejandro Gamboa Ramirez</td>\n",
       "      <td>Operario</td>\n",
       "      <td>6005.0</td>\n",
       "      <td>52.4</td>\n",
       "      <td>5.5</td>\n",
       "      <td>730000</td>\n",
       "      <td>2</td>\n",
       "      <td>2a</td>\n",
       "      <td>85.4</td>\n",
       "    </tr>\n",
       "  </tbody>\n",
       "</table>\n",
       "</div>"
      ],
      "text/plain": [
       "   ID_Persona           RUT                            Nombre  \\\n",
       "0        4232  12.357.791-4  Cristian Transito Abarca Garrido   \n",
       "\n",
       "                                   Primer_Nivel  \\\n",
       "0  CARLOS CRAMER PRODUCTOS AROMÁTICOS S.A. C.I.   \n",
       "\n",
       "                             Nombre_Area                     Jefe Directo  \\\n",
       "0  Fabricación Y Envasado Mezclas Polvos  Manuel Alejandro Gamboa Ramirez   \n",
       "\n",
       "      Cargo  Centro_Costo_Area  Edad  Años de Servicio  Sueldo Base Nivel  \\\n",
       "0  Operario             6005.0  52.4               5.5       730000     2   \n",
       "\n",
       "  Posición Sub-Nivel  Posición En Nivel  \n",
       "0                 2a               85.4  "
      ]
     },
     "execution_count": 45,
     "metadata": {},
     "output_type": "execute_result"
    }
   ],
   "source": [
    "df_niveles_gabriel.head(1)"
   ]
  },
  {
   "cell_type": "code",
   "execution_count": 46,
   "metadata": {},
   "outputs": [
    {
     "name": "stdout",
     "output_type": "stream",
     "text": [
      "Index(['ID_Persona', 'RUT', 'Nombre', 'Primer_Nivel', 'Nombre_Area',\n",
      "       'Jefe Directo', 'Cargo', 'Centro_Costo_Area', 'Edad',\n",
      "       'Años de Servicio', 'Sueldo Base', 'Nivel', 'Posición Sub-Nivel',\n",
      "       'Posición En Nivel'],\n",
      "      dtype='object')\n"
     ]
    }
   ],
   "source": [
    "print(df_niveles_gabriel.columns)"
   ]
  },
  {
   "cell_type": "code",
   "execution_count": 47,
   "metadata": {},
   "outputs": [
    {
     "name": "stdout",
     "output_type": "stream",
     "text": [
      "<class 'pandas.core.frame.DataFrame'>\n",
      "RangeIndex: 559 entries, 0 to 558\n",
      "Data columns (total 4 columns):\n",
      " #   Column        Non-Null Count  Dtype \n",
      "---  ------        --------------  ----- \n",
      " 0   Jefe Directo  559 non-null    object\n",
      " 1   Cargo         559 non-null    object\n",
      " 2   Sueldo Base   559 non-null    int64 \n",
      " 3   Nivel         559 non-null    object\n",
      "dtypes: int64(1), object(3)\n",
      "memory usage: 17.6+ KB\n"
     ]
    }
   ],
   "source": [
    "df_niveles_gabriel = df_niveles_gabriel.drop(['ID_Persona', 'RUT', 'Nombre', 'Primer_Nivel', 'Nombre_Area','Centro_Costo_Area', 'Edad',\n",
    "       'Años de Servicio',\"Posición Sub-Nivel\",\n",
    "       'Posición En Nivel'], axis=1)\n",
    "\n",
    "df_niveles_gabriel.info()"
   ]
  },
  {
   "cell_type": "code",
   "execution_count": 48,
   "metadata": {},
   "outputs": [
    {
     "data": {
      "text/html": [
       "<div>\n",
       "<style scoped>\n",
       "    .dataframe tbody tr th:only-of-type {\n",
       "        vertical-align: middle;\n",
       "    }\n",
       "\n",
       "    .dataframe tbody tr th {\n",
       "        vertical-align: top;\n",
       "    }\n",
       "\n",
       "    .dataframe thead th {\n",
       "        text-align: right;\n",
       "    }\n",
       "</style>\n",
       "<table border=\"1\" class=\"dataframe\">\n",
       "  <thead>\n",
       "    <tr style=\"text-align: right;\">\n",
       "      <th></th>\n",
       "      <th>Jefe Directo</th>\n",
       "      <th>Cargo</th>\n",
       "      <th>Sueldo Base</th>\n",
       "      <th>Nivel</th>\n",
       "    </tr>\n",
       "  </thead>\n",
       "  <tbody>\n",
       "    <tr>\n",
       "      <th>0</th>\n",
       "      <td>Manuel Alejandro Gamboa Ramirez</td>\n",
       "      <td>Operario</td>\n",
       "      <td>730000</td>\n",
       "      <td>2</td>\n",
       "    </tr>\n",
       "    <tr>\n",
       "      <th>1</th>\n",
       "      <td>Manuel Alejandro Gamboa Ramirez</td>\n",
       "      <td>Operario</td>\n",
       "      <td>570000</td>\n",
       "      <td>1</td>\n",
       "    </tr>\n",
       "    <tr>\n",
       "      <th>2</th>\n",
       "      <td>Manuel Alejandro Gamboa Ramirez</td>\n",
       "      <td>Operario</td>\n",
       "      <td>640000</td>\n",
       "      <td>2</td>\n",
       "    </tr>\n",
       "    <tr>\n",
       "      <th>3</th>\n",
       "      <td>Manuel Alejandro Gamboa Ramirez</td>\n",
       "      <td>Operario</td>\n",
       "      <td>600000</td>\n",
       "      <td>1</td>\n",
       "    </tr>\n",
       "    <tr>\n",
       "      <th>4</th>\n",
       "      <td>Manuel Alejandro Gamboa Ramirez</td>\n",
       "      <td>Operario</td>\n",
       "      <td>580000</td>\n",
       "      <td>1</td>\n",
       "    </tr>\n",
       "  </tbody>\n",
       "</table>\n",
       "</div>"
      ],
      "text/plain": [
       "                      Jefe Directo     Cargo  Sueldo Base Nivel\n",
       "0  Manuel Alejandro Gamboa Ramirez  Operario       730000     2\n",
       "1  Manuel Alejandro Gamboa Ramirez  Operario       570000     1\n",
       "2  Manuel Alejandro Gamboa Ramirez  Operario       640000     2\n",
       "3  Manuel Alejandro Gamboa Ramirez  Operario       600000     1\n",
       "4  Manuel Alejandro Gamboa Ramirez  Operario       580000     1"
      ]
     },
     "execution_count": 48,
     "metadata": {},
     "output_type": "execute_result"
    }
   ],
   "source": [
    "df_niveles_gabriel.head(5)"
   ]
  },
  {
   "cell_type": "code",
   "execution_count": 9,
   "metadata": {},
   "outputs": [
    {
     "name": "stdout",
     "output_type": "stream",
     "text": [
      "            Rut  Sueldo Base  Nivel 24\n",
      "0    20051168-9    2140000.0       8.0\n",
      "1    25861292-2    1386000.0       6.0\n",
      "2    26542918-1     610000.0       4.0\n",
      "3    21889457-7     550000.0       1.0\n",
      "4    19683409-5     610000.0       4.0\n",
      "..          ...          ...       ...\n",
      "543  17488498-6    1000000.0       5.0\n",
      "544  20123147-7     570000.0       1.0\n",
      "545         NaN          NaN       4.0\n",
      "546         NaN          NaN       4.0\n",
      "547         NaN          NaN       4.0\n",
      "\n",
      "[548 rows x 3 columns]\n"
     ]
    }
   ],
   "source": [
    "# Crear un subset con los registros que tienen Nivel definido\n",
    "referencia = df_limpio[df_limpio['Nivel 24'].notna()]\n",
    "\n",
    "# Función para encontrar el nivel más cercano por sueldo\n",
    "def asignar_nivel(sueldo):\n",
    "    if referencia.empty:\n",
    "        return np.nan\n",
    "    diferencias = abs(referencia['Sueldo Base'] - sueldo)\n",
    "    nivel = referencia.iloc[diferencias.values.argmin()]['Nivel 24']\n",
    "    return nivel\n",
    "\n",
    "# Aplicar la función a los valores faltantes\n",
    "df_limpio['Nivel 24'] = df_limpio.apply(\n",
    "    lambda row: asignar_nivel(row['Sueldo Base']) if pd.isna(row['Nivel 24']) else row['Nivel 24'],\n",
    "    axis=1\n",
    ")\n",
    "\n",
    "print(df_limpio)"
   ]
  },
  {
   "cell_type": "code",
   "execution_count": 14,
   "metadata": {},
   "outputs": [],
   "source": [
    "#df_limpio.to_excel(\"Niveles Completos.xlsx\", index=False)\n"
   ]
  },
  {
   "cell_type": "code",
   "execution_count": null,
   "metadata": {},
   "outputs": [],
   "source": []
  }
 ],
 "metadata": {
  "kernelspec": {
   "display_name": "entorno_datos",
   "language": "python",
   "name": "python3"
  },
  "language_info": {
   "codemirror_mode": {
    "name": "ipython",
    "version": 3
   },
   "file_extension": ".py",
   "mimetype": "text/x-python",
   "name": "python",
   "nbconvert_exporter": "python",
   "pygments_lexer": "ipython3",
   "version": "3.13.2"
  }
 },
 "nbformat": 4,
 "nbformat_minor": 2
}
