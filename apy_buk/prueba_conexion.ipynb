{
 "cells": [
  {
   "cell_type": "code",
   "execution_count": null,
   "id": "4d730cfd",
   "metadata": {},
   "outputs": [
    {
     "name": "stdout",
     "output_type": "stream",
     "text": [
      "TOKEN: nbeU1PWnHXqXJLFGzoh5yiyw\n",
      "SQL: cancionanimal\n"
     ]
    }
   ],
   "source": [
    "import requests\n",
    "#import mysql.connector\n",
    "import os\n",
    "from dotenv import load_dotenv\n",
    "#import json\n",
    "#import pandas as pd\n",
    "import pymysql\n",
    "import time\n",
    "\n",
    "# Configuración API\n",
    "URL = \"https://cramer.buk.cl/api/v1/chile/employees\"\n",
    "TOKEN = os.getenv(\"BUK_AUTH_TOKEN\")\n",
    "\n",
    "\n",
    "# Configuración BD\n",
    "DB_HOST = \"localhost\"\n",
    "DB_USER = \"root\"\n",
    "DB_PASSWORD = os.getenv(\"clave_sql\")\n",
    "DB_NAME = \"buk_db\"\n",
    "\n",
    "print(f\"TOKEN: {os.getenv('BUK_AUTH_TOKEN')}\")\n",
    "print(f\"SQL: {os.getenv('clave_sql')}\")"
   ]
  },
  {
   "cell_type": "code",
   "execution_count": null,
   "id": "6a176e77",
   "metadata": {},
   "outputs": [],
   "source": [
    "def obtener_todos_los_empleados():\n",
    "    \"\"\"\n",
    "    Función que obtiene todos los empleados iterando por todas las páginas\n",
    "    \"\"\"\n",
    "    headers = {\"auth_token\": TOKEN}\n",
    "    todos_los_empleados = []\n",
    "    url_actual = URL\n",
    "    pagina_actual = 1\n",
    "    \n",
    "    print(\"🚀 Comenzando la obtención de empleados con paginación...\")\n",
    "    \n",
    "    while url_actual:\n",
    "        print(f\"📄 Obteniendo página {pagina_actual}...\")\n",
    "        \n",
    "        response = requests.get(url_actual, headers=headers)\n",
    "        \n",
    "        if response.status_code == 200:\n",
    "            respuesta_api = response.json()\n",
    "            empleados_pagina = respuesta_api['data']\n",
    "            pagination_info = respuesta_api['pagination']\n",
    "            \n",
    "            # Agregar empleados de esta página a la lista total\n",
    "            todos_los_empleados.extend(empleados_pagina)\n",
    "            \n",
    "            print(f\"✅ Página {pagina_actual}: {len(empleados_pagina)} empleados obtenidos\")\n",
    "            print(f\"📊 Total acumulado: {len(todos_los_empleados)} empleados\")\n",
    "            print(f\"📈 Páginas restantes: {pagination_info['total_pages'] - pagina_actual}\")\n",
    "            \n",
    "            # Verificar si hay una página siguiente\n",
    "            url_actual = pagination_info.get('next')\n",
    "            pagina_actual += 1\n",
    "            \n",
    "            # Pequeña pausa para no sobrecargar la API\n",
    "            time.sleep(0.5)\n",
    "            \n",
    "        else:\n",
    "            print(f\"❌ Error en la petición página {pagina_actual}:\", response.status_code)\n",
    "            break\n",
    "    \n",
    "    print(f\"🎉 ¡Paginación completada! Total de empleados obtenidos: {len(todos_los_empleados)}\")\n",
    "    return todos_los_empleados\n",
    "\n",
    "# Obtener todos los empleados\n",
    "empleados = obtener_todos_los_empleados()"
   ]
  },
  {
   "cell_type": "code",
   "execution_count": 37,
   "id": "bdb2b3c3",
   "metadata": {},
   "outputs": [
    {
     "name": "stdout",
     "output_type": "stream",
     "text": [
      "🚀 Conectando a MySQL...\n",
      "✅ Conectado a MySQL y usando la base: buk_db\n"
     ]
    }
   ],
   "source": [
    "print(\"🚀 Conectando a MySQL...\")\n",
    "conexion = pymysql.connect(\n",
    "    host=DB_HOST,\n",
    "    user=DB_USER,\n",
    "    password=DB_PASSWORD,\n",
    "    charset='utf8mb4'\n",
    ")\n",
    "cursor = conexion.cursor()\n",
    "\n",
    "# Crear base de datos si no existe\n",
    "cursor.execute(f\"CREATE DATABASE IF NOT EXISTS {DB_NAME}\")\n",
    "cursor.execute(f\"USE {DB_NAME}\")\n",
    "print(f\"✅ Conectado a MySQL y usando la base: {DB_NAME}\")"
   ]
  },
  {
   "cell_type": "code",
   "execution_count": 38,
   "id": "d5890b13",
   "metadata": {},
   "outputs": [
    {
     "name": "stdout",
     "output_type": "stream",
     "text": [
      "🚀 Creando tabla empleados (si no existe)...\n",
      "✅ Tabla 'empleados' lista.\n"
     ]
    }
   ],
   "source": [
    "print(\"🚀 Creando tabla empleados (si no existe)...\")\n",
    "cursor.execute(\"\"\"\n",
    "CREATE TABLE IF NOT EXISTS empleados (\n",
    "    id INT PRIMARY KEY,\n",
    "    first_name VARCHAR(100),\n",
    "    surname VARCHAR(100),\n",
    "    full_name VARCHAR(200),\n",
    "    rut VARCHAR(20),\n",
    "    email VARCHAR(200),\n",
    "    phone VARCHAR(50)\n",
    ")\n",
    "\"\"\")\n",
    "print(\"✅ Tabla 'empleados' lista.\")\n"
   ]
  },
  {
   "cell_type": "code",
   "execution_count": 39,
   "id": "b53f2cd8",
   "metadata": {},
   "outputs": [
    {
     "name": "stdout",
     "output_type": "stream",
     "text": [
      "🚀 Insertando TODOS los empleados en la tabla SQL...\n",
      "📝 Procesados 100 empleados...\n",
      "📝 Procesados 200 empleados...\n",
      "📝 Procesados 300 empleados...\n",
      "📝 Procesados 400 empleados...\n",
      "📝 Procesados 500 empleados...\n",
      "📝 Procesados 600 empleados...\n",
      "📝 Procesados 700 empleados...\n",
      "📝 Procesados 800 empleados...\n",
      "📝 Procesados 900 empleados...\n",
      "📝 Procesados 1000 empleados...\n",
      "✅ 1094 registros insertados/actualizados en MySQL.\n"
     ]
    }
   ],
   "source": [
    "print(\"🚀 Insertando TODOS los empleados en la tabla SQL...\")\n",
    "contador = 0\n",
    "errores = 0\n",
    "\n",
    "for e in empleados:\n",
    "    try:\n",
    "        sql = \"\"\"\n",
    "        INSERT INTO empleados (id, first_name, surname, full_name, rut, email, phone)\n",
    "        VALUES (%s, %s, %s, %s, %s, %s, %s)\n",
    "        ON DUPLICATE KEY UPDATE\n",
    "            first_name=VALUES(first_name),\n",
    "            surname=VALUES(surname),\n",
    "            full_name=VALUES(full_name),\n",
    "            rut=VALUES(rut),\n",
    "            email=VALUES(email),\n",
    "            phone=VALUES(phone)\n",
    "        \"\"\"\n",
    "        values = (\n",
    "            e.get(\"id\"),\n",
    "            e.get(\"first_name\"),\n",
    "            e.get(\"surname\"),\n",
    "            e.get(\"full_name\"),\n",
    "            e.get(\"rut\"),\n",
    "            e.get(\"email\"),\n",
    "            e.get(\"phone\")\n",
    "        )\n",
    "        cursor.execute(sql, values)\n",
    "        contador += 1\n",
    "        \n",
    "        # Mostrar progreso cada 100 registros\n",
    "        if contador % 100 == 0:\n",
    "            print(f\"📝 Procesados {contador} empleados...\")\n",
    "            \n",
    "    except Exception as error:\n",
    "        print(f\"⚠️ Error insertando empleado {e.get('id', 'N/A')}: {error}\")\n",
    "        errores += 1\n",
    "\n",
    "conexion.commit()\n",
    "print(f\"✅ {contador} registros insertados/actualizados en MySQL.\")\n",
    "if errores > 0:\n",
    "    print(f\"⚠️ Se produjeron {errores} errores durante la inserción.\")"
   ]
  },
  {
   "cell_type": "code",
   "execution_count": 40,
   "id": "305c7808",
   "metadata": {},
   "outputs": [
    {
     "name": "stdout",
     "output_type": "stream",
     "text": [
      "🚀 Consultando estadísticas de la tabla...\n",
      "📊 Total de empleados en la base de datos: 1094\n",
      "\n",
      "🔍 Mostrando los primeros 5 empleados:\n",
      "ID: 4129, Nombre: Angel Rodrigo Eguiluz Toledo, Email: aeguiluz@sabores.cl\n",
      "ID: 4130, Nombre: Roberto Agustin Tobar Chavez, Email: rtobar@cramer.cl\n",
      "ID: 4131, Nombre: Isis Fernanda Donoso Velasquez, Email: idonoso@sabores.cl\n",
      "ID: 4132, Nombre: Rodrigo Del Rosario Carrasco Torres, Email: ro.ca.to@hotmail.com\n",
      "ID: 4133, Nombre: Camila Belen Osorio Gallardo, Email: cosorio@cramer.cl\n",
      "\n",
      "🔍 Mostrando los últimos 5 empleados:\n",
      "ID: 11587, Nombre: Marcelo Del Carmen González Baeza, Email: marcelo14051976@gmail.com\n",
      "ID: 11586, Nombre: Hernán Gabriel Piterá Piterá, Email: hernangpitera@gmail.com\n",
      "ID: 11585, Nombre: Jesús Damián Sarabia Gomez, Email: damian.sarabiag@gmail.com\n",
      "ID: 11584, Nombre: Carolina Alejandra Tapia Burboa, Email: ctapiaburboa@gmail.com\n",
      "ID: 11583, Nombre: Luis Alfredo Escobar Pérez, Email: luis.alfredo.escobar18@gmail.com\n"
     ]
    }
   ],
   "source": [
    "print(\"🚀 Consultando estadísticas de la tabla...\")\n",
    "cursor.execute(\"SELECT COUNT(*) as total FROM empleados;\")\n",
    "total_registros = cursor.fetchone()[0]\n",
    "print(f\"📊 Total de empleados en la base de datos: {total_registros}\")\n",
    "\n",
    "print(\"\\n🔍 Mostrando los primeros 5 empleados:\")\n",
    "cursor.execute(\"SELECT id, full_name, email FROM empleados LIMIT 5;\")\n",
    "for row in cursor.fetchall():\n",
    "    print(f\"ID: {row[0]}, Nombre: {row[1]}, Email: {row[2]}\")\n",
    "\n",
    "print(\"\\n🔍 Mostrando los últimos 5 empleados:\")\n",
    "cursor.execute(\"SELECT id, full_name, email FROM empleados ORDER BY id DESC LIMIT 5;\")\n",
    "for row in cursor.fetchall():\n",
    "    print(f\"ID: {row[0]}, Nombre: {row[1]}, Email: {row[2]}\")"
   ]
  },
  {
   "cell_type": "code",
   "execution_count": 41,
   "id": "338b6b3d",
   "metadata": {},
   "outputs": [
    {
     "name": "stdout",
     "output_type": "stream",
     "text": [
      "✅ Conexión cerrada correctamente.\n"
     ]
    }
   ],
   "source": [
    "cursor.close()\n",
    "conexion.close()\n",
    "print(\"✅ Conexión cerrada correctamente.\")"
   ]
  },
  {
   "cell_type": "code",
   "execution_count": null,
   "id": "2f5a6691",
   "metadata": {},
   "outputs": [],
   "source": []
  }
 ],
 "metadata": {
  "kernelspec": {
   "display_name": "venv",
   "language": "python",
   "name": "python3"
  },
  "language_info": {
   "codemirror_mode": {
    "name": "ipython",
    "version": 3
   },
   "file_extension": ".py",
   "mimetype": "text/x-python",
   "name": "python",
   "nbconvert_exporter": "python",
   "pygments_lexer": "ipython3",
   "version": "3.12.7"
  }
 },
 "nbformat": 4,
 "nbformat_minor": 5
}
