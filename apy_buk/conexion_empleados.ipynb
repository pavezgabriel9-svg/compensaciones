{
 "cells": [],
 "metadata": {
  "kernelspec": {
   "display_name": "entorno_compensaciones",
   "language": "python",
   "name": "python3"
  },
  "language_info": {
   "name": "python",
   "version": "3.13.6"
  }
 },
 "nbformat": 4,
 "nbformat_minor": 5
}
