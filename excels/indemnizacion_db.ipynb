{
 "cells": [
  {
   "cell_type": "code",
   "execution_count": 1,
   "id": "c8b48ad5",
   "metadata": {},
   "outputs": [],
   "source": [
    "import pymysql\n",
    "import pandas as pd\n",
    "\n",
    "# Configuración BD (misma que tienes en tu código original)\n",
    "DB_HOST = \"10.254.33.138\"\n",
    "DB_USER = \"compensaciones_rrhh\"\n",
    "DB_PASSWORD = \"_Cramercomp2025_\"\n",
    "DB_NAME = \"rrhh_app\""
   ]
  },
  {
   "cell_type": "code",
   "execution_count": 2,
   "id": "c64832af",
   "metadata": {},
   "outputs": [],
   "source": [
    "def conectar_y_extraer_datos():\n",
    "    \"\"\"\n",
    "    Conecta a la base de datos y extrae las columnas específicas en un DataFrame\n",
    "    \"\"\"\n",
    "    try:\n",
    "        print(\"🚀 Conectando a MySQL...\")\n",
    "        \n",
    "        # Establecer conexión\n",
    "        conexion = pymysql.connect(\n",
    "            host=DB_HOST,\n",
    "            user=DB_USER,\n",
    "            password=DB_PASSWORD,\n",
    "            database=DB_NAME,\n",
    "            charset='utf8mb4'\n",
    "        )\n",
    "        \n",
    "        print(f\"✅ Conectado a MySQL y usando la base: {DB_NAME}\")\n",
    "        \n",
    "        # Query para extraer solo las columnas que necesitas\n",
    "        query = \"\"\"\n",
    "        SELECT \n",
    "            full_name,\n",
    "            rut,\n",
    "            base_wage,\n",
    "            name_role,\n",
    "            birthday,\n",
    "            status,\n",
    "            active_since\n",
    "            \n",
    "        FROM employees\n",
    "        WHERE full_name IS NOT NULL \n",
    "        AND rut IS NOT NULL\n",
    "        ORDER BY birthday\n",
    "        \"\"\"\n",
    "        \n",
    "        # Crear DataFrame directamente desde la query\n",
    "        df = pd.read_sql(query, conexion)\n",
    "        \n",
    "        #print(f\"✅ DataFrame creado exitosamente con {len(df)} registros\")\n",
    "        print(f\"📋 Columnas disponibles: {list(df.columns)}\")\n",
    "        \n",
    "        # Cerrar conexión\n",
    "        conexion.close()\n",
    "        print(\"✅ Conexión cerrada correctamente.\")\n",
    "        \n",
    "        return df\n",
    "        \n",
    "    except Exception as e:\n",
    "        print(f\"❌ Error al conectar o extraer datos: {e}\")\n",
    "        return None"
   ]
  },
  {
   "cell_type": "code",
   "execution_count": 3,
   "id": "7018e08f",
   "metadata": {},
   "outputs": [],
   "source": [
    "def calcular_edad_y_antiguedad(df):\n",
    "    \"\"\"\n",
    "    Calcula la edad actual y los años de servicio en la empresa\n",
    "    \"\"\"\n",
    "    if df is None or df.empty:\n",
    "        return df\n",
    "    \n",
    "    print(\"Calculando edad y años de servicio...\")\n",
    "    fecha_actual = pd.Timestamp.now()\n",
    "    \n",
    "    # Calcular edad en años\n",
    "    if 'birthday' in df.columns:\n",
    "        df['edad_años'] = ((fecha_actual - df['birthday']).dt.days / 365.25).round(1)\n",
    "        print(\"✅ Columna 'edad_años' creada\")\n",
    "       \n",
    "    else:\n",
    "        print(\"⚠️ Columna 'birthday' no encontrada - no se puede calcular edad\")\n",
    "    \n",
    "    # Calcular años de servicio\n",
    "    if 'active_since' in df.columns:\n",
    "        df['años_servicio'] = ((fecha_actual - df['active_since']).dt.days / 365.25).round(1)\n",
    "        print(\"✅ Columna 'años_servicio' creada\")\n",
    "        \n",
    "        # Crear columna de antigüedad en categorías\n",
    "        df['categoria_antiguedad'] = pd.cut(\n",
    "            df['años_servicio'], \n",
    "            bins=[-float('inf'), 1, 3, 5, 10, float('inf')],\n",
    "            labels=['Menos de 1 año', '1-3 años', '3-5 años', '5-10 años', 'Más de 10 años']\n",
    "        )\n",
    "        print(\"✅ Columna 'categoria_antiguedad' creada\")\n",
    "    else:\n",
    "        print(\"⚠️ Columna 'active_since' no encontrada - no se puede calcular años de servicio\")\n",
    "    \n",
    "    return df"
   ]
  },
  {
   "cell_type": "code",
   "execution_count": 4,
   "id": "bac5aa48",
   "metadata": {},
   "outputs": [
    {
     "name": "stdout",
     "output_type": "stream",
     "text": [
      "🚀 Conectando a MySQL...\n",
      "✅ Conectado a MySQL y usando la base: rrhh_app\n",
      "📋 Columnas disponibles: ['full_name', 'rut', 'base_wage', 'name_role', 'birthday', 'status', 'active_since']\n",
      "✅ Conexión cerrada correctamente.\n",
      "Calculando edad y años de servicio...\n",
      "✅ Columna 'edad_años' creada\n",
      "✅ Columna 'años_servicio' creada\n",
      "✅ Columna 'categoria_antiguedad' creada\n",
      "\n",
      "🎉 DataFrame 'df_empleados' listo con todas las columnas calculadas!\n"
     ]
    },
    {
     "name": "stderr",
     "output_type": "stream",
     "text": [
      "C:\\Users\\gpavez\\AppData\\Local\\Temp\\ipykernel_8004\\792895127.py:37: UserWarning: pandas only supports SQLAlchemy connectable (engine/connection) or database string URI or sqlite3 DBAPI2 connection. Other DBAPI2 objects are not tested. Please consider using SQLAlchemy.\n",
      "  df = pd.read_sql(query, conexion)\n"
     ]
    }
   ],
   "source": [
    "# Ejecutar la extracción\n",
    "if __name__ == \"__main__\":\n",
    "    # Extraer los datos\n",
    "    df_empleados = conectar_y_extraer_datos()\n",
    "\n",
    "    # Para fechas\n",
    "    df_empleados['birthday'] = pd.to_datetime(df_empleados['birthday'], errors='coerce')\n",
    "    df_empleados['active_since'] = pd.to_datetime(df_empleados['active_since'], errors='coerce')\n",
    "\n",
    "    # Para salarios (Int64 permite valores nulos)\n",
    "    df_empleados['base_wage'] = df_empleados['base_wage'].astype('Int64')\n",
    "    \n",
    "    # ¡AQUÍ FALTABA ESTA LÍNEA IMPORTANTE!\n",
    "    df_empleados = calcular_edad_y_antiguedad(df_empleados)\n",
    "    \n",
    "    # El DataFrame ya está listo para trabajar\n",
    "    print(\"\\n🎉 DataFrame 'df_empleados' listo con todas las columnas calculadas!\")\n"
   ]
  },
  {
   "cell_type": "code",
   "execution_count": 5,
   "id": "1871db89",
   "metadata": {},
   "outputs": [
    {
     "name": "stdout",
     "output_type": "stream",
     "text": [
      "📊 Registros antes de limpiar duplicados: 3288\n",
      "🔍 Registros con RUT duplicado: 3285\n",
      "✅ Registros después de eliminar duplicados completos: 1098\n",
      "✅ Registros después de eliminar duplicados por RUT: 1072\n",
      "✅ Índice reseteado\n"
     ]
    }
   ],
   "source": [
    "# Limpiar duplicados\n",
    "print(f\"📊 Registros antes de limpiar duplicados: {len(df_empleados)}\")\n",
    "\n",
    "# Ver duplicados por RUT (que debería ser único)\n",
    "duplicados_rut = df_empleados[df_empleados.duplicated(subset=['rut'], keep=False)]\n",
    "print(f\"🔍 Registros con RUT duplicado: {len(duplicados_rut)}\")\n",
    "\n",
    "# Eliminar duplicados completos (todas las columnas iguales)\n",
    "df_empleados = df_empleados.drop_duplicates()\n",
    "print(f\"✅ Registros después de eliminar duplicados completos: {len(df_empleados)}\")\n",
    "\n",
    "# Si aún hay duplicados por RUT, mantener solo el primero\n",
    "df_empleados = df_empleados.drop_duplicates(subset=['rut'], keep='first')\n",
    "print(f\"✅ Registros después de eliminar duplicados por RUT: {len(df_empleados)}\")\n",
    "\n",
    "# Resetear el índice\n",
    "df_empleados = df_empleados.reset_index(drop=True)\n",
    "print(\"✅ Índice reseteado\")"
   ]
  },
  {
   "cell_type": "code",
   "execution_count": 6,
   "id": "c8cd262e",
   "metadata": {},
   "outputs": [
    {
     "name": "stdout",
     "output_type": "stream",
     "text": [
      "<class 'pandas.core.frame.DataFrame'>\n",
      "RangeIndex: 1072 entries, 0 to 1071\n",
      "Data columns (total 10 columns):\n",
      " #   Column                Non-Null Count  Dtype         \n",
      "---  ------                --------------  -----         \n",
      " 0   full_name             1072 non-null   object        \n",
      " 1   rut                   1072 non-null   object        \n",
      " 2   base_wage             1071 non-null   Int64         \n",
      " 3   name_role             1071 non-null   object        \n",
      " 4   birthday              1072 non-null   datetime64[ns]\n",
      " 5   status                1072 non-null   object        \n",
      " 6   active_since          1072 non-null   datetime64[ns]\n",
      " 7   edad_años             1072 non-null   float64       \n",
      " 8   años_servicio         1072 non-null   float64       \n",
      " 9   categoria_antiguedad  1072 non-null   category      \n",
      "dtypes: Int64(1), category(1), datetime64[ns](2), float64(2), object(4)\n",
      "memory usage: 77.8+ KB\n"
     ]
    }
   ],
   "source": [
    "df_empleados.info()"
   ]
  },
  {
   "cell_type": "code",
   "execution_count": 7,
   "id": "9606da93",
   "metadata": {},
   "outputs": [],
   "source": [
    "def filtrar_empleados(df, años_min=None, cargo_texto=None, salario_min=None, salario_max=None):\n",
    "    \"\"\"\n",
    "    Filtro múltiple para empleados\n",
    "    \"\"\"\n",
    "    df_resultado = df.copy()\n",
    "    filtros_aplicados = []\n",
    "    \n",
    "    # Filtro por antigüedad\n",
    "    if años_min is not None:\n",
    "        df_resultado = df_resultado[df_resultado['años_servicio'] >= años_min]\n",
    "        filtros_aplicados.append(f\"antigüedad >= {años_min} años\")\n",
    "    \n",
    "    # Filtro por cargo\n",
    "    if cargo_texto is not None:\n",
    "        df_resultado = df_resultado[df_resultado['name_role'].str.contains(cargo_texto, case=False, na=False)]\n",
    "        filtros_aplicados.append(f\"cargo contiene '{cargo_texto}'\")\n",
    "    \n",
    "    # Filtro por salario mínimo\n",
    "    if salario_min is not None:\n",
    "        df_resultado = df_resultado[df_resultado['base_wage'] >= salario_min]\n",
    "        filtros_aplicados.append(f\"salario >= ${salario_min:,}\")\n",
    "    \n",
    "    # Filtro por salario máximo\n",
    "    if salario_max is not None:\n",
    "        df_resultado = df_resultado[df_resultado['base_wage'] <= salario_max]\n",
    "        filtros_aplicados.append(f\"salario <= ${salario_max:,}\")\n",
    "    \n",
    "    print(f\"🔍 Filtros aplicados: {', '.join(filtros_aplicados)}\")\n",
    "    print(f\"📊 Resultados: {len(df_resultado)} empleados de {len(df)} total\")\n",
    "    \n",
    "    return df_resultado"
   ]
  },
  {
   "cell_type": "code",
   "execution_count": null,
   "id": "05b97c49",
   "metadata": {},
   "outputs": [],
   "source": []
  }
 ],
 "metadata": {
  "kernelspec": {
   "display_name": "entorno_compensaciones",
   "language": "python",
   "name": "python3"
  },
  "language_info": {
   "codemirror_mode": {
    "name": "ipython",
    "version": 3
   },
   "file_extension": ".py",
   "mimetype": "text/x-python",
   "name": "python",
   "nbconvert_exporter": "python",
   "pygments_lexer": "ipython3",
   "version": "3.13.6"
  }
 },
 "nbformat": 4,
 "nbformat_minor": 5
}
