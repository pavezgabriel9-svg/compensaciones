{
 "cells": [
  {
   "cell_type": "code",
   "execution_count": 95,
   "id": "08b2ab87",
   "metadata": {},
   "outputs": [],
   "source": [
    "import pandas as pd\n",
    "import matplotlib.pyplot as plt\n",
    "import numpy as np\n",
    "import pymysql"
   ]
  },
  {
   "cell_type": "code",
   "execution_count": 96,
   "id": "ffce6b4c",
   "metadata": {},
   "outputs": [],
   "source": [
    "df_niveles = pd.read_excel(r\"C:\\Users\\gpavez\\Desktop\\Compensaciones\\revision_base_1.2.xlsx\")"
   ]
  },
  {
   "cell_type": "code",
   "execution_count": 97,
   "id": "eff38e92",
   "metadata": {},
   "outputs": [
    {
     "data": {
      "text/plain": [
       "Index(['rut', 'nombre', 'nombre_jefe', 'area', 'division', 'cargo',\n",
       "       'nacimiento', 'ingreso', 'base', 'base_previo', 'fecha_aumento_previo',\n",
       "       'variacion_salarial_porcentual', 'meses_entre_aumentos',\n",
       "       'promedio_aumentos', 'meses_sin_aumento', 'nivel 25_ julio',\n",
       "       'criticidad', 'obs_julio', '_merge'],\n",
       "      dtype='object')"
      ]
     },
     "execution_count": 97,
     "metadata": {},
     "output_type": "execute_result"
    }
   ],
   "source": [
    "df_niveles.columns"
   ]
  },
  {
   "cell_type": "code",
   "execution_count": 98,
   "id": "32a53935",
   "metadata": {},
   "outputs": [
    {
     "data": {
      "text/html": [
       "<div>\n",
       "<style scoped>\n",
       "    .dataframe tbody tr th:only-of-type {\n",
       "        vertical-align: middle;\n",
       "    }\n",
       "\n",
       "    .dataframe tbody tr th {\n",
       "        vertical-align: top;\n",
       "    }\n",
       "\n",
       "    .dataframe thead th {\n",
       "        text-align: right;\n",
       "    }\n",
       "</style>\n",
       "<table border=\"1\" class=\"dataframe\">\n",
       "  <thead>\n",
       "    <tr style=\"text-align: right;\">\n",
       "      <th></th>\n",
       "      <th>rut</th>\n",
       "      <th>level</th>\n",
       "      <th>criticidad</th>\n",
       "    </tr>\n",
       "  </thead>\n",
       "  <tbody>\n",
       "    <tr>\n",
       "      <th>0</th>\n",
       "      <td>189572190</td>\n",
       "      <td>7.0</td>\n",
       "      <td>NaN</td>\n",
       "    </tr>\n",
       "    <tr>\n",
       "      <th>1</th>\n",
       "      <td>126455534</td>\n",
       "      <td>8.0</td>\n",
       "      <td>NaN</td>\n",
       "    </tr>\n",
       "    <tr>\n",
       "      <th>2</th>\n",
       "      <td>185479838</td>\n",
       "      <td>5.0</td>\n",
       "      <td>ADM</td>\n",
       "    </tr>\n",
       "    <tr>\n",
       "      <th>3</th>\n",
       "      <td>124688191</td>\n",
       "      <td>7.0</td>\n",
       "      <td>NaN</td>\n",
       "    </tr>\n",
       "    <tr>\n",
       "      <th>4</th>\n",
       "      <td>162989413</td>\n",
       "      <td>7.0</td>\n",
       "      <td>NaN</td>\n",
       "    </tr>\n",
       "  </tbody>\n",
       "</table>\n",
       "</div>"
      ],
      "text/plain": [
       "         rut  level criticidad\n",
       "0  189572190    7.0        NaN\n",
       "1  126455534    8.0        NaN\n",
       "2  185479838    5.0        ADM\n",
       "3  124688191    7.0        NaN\n",
       "4  162989413    7.0        NaN"
      ]
     },
     "execution_count": 98,
     "metadata": {},
     "output_type": "execute_result"
    }
   ],
   "source": [
    "df_niveles_limpio = df_niveles.drop(['nombre', 'nombre_jefe', 'area', 'division', 'cargo',\n",
    "       'nacimiento', 'ingreso', 'base', 'base_previo', 'fecha_aumento_previo',\n",
    "       'variacion_salarial_porcentual', 'meses_entre_aumentos',\n",
    "       'promedio_aumentos', 'meses_sin_aumento','obs_julio', '_merge' ], axis=1)\n",
    "df_niveles_limpio = df_niveles_limpio.rename(columns={'nivel 25_ julio':'level'})\n",
    "df_niveles_limpio.head()"
   ]
  },
  {
   "cell_type": "code",
   "execution_count": 99,
   "id": "6fafa8d4",
   "metadata": {},
   "outputs": [
    {
     "name": "stdout",
     "output_type": "stream",
     "text": [
      "0    189572190\n",
      "1    126455534\n",
      "2    185479838\n",
      "3    124688191\n",
      "4    162989413\n",
      "Name: rut, dtype: object\n",
      "object\n"
     ]
    }
   ],
   "source": [
    "# Ver los primeros RUTs sin formato\n",
    "print(df_niveles_limpio['rut'].head())\n",
    "print(df_niveles_limpio['rut'].dtype)"
   ]
  },
  {
   "cell_type": "code",
   "execution_count": 100,
   "id": "f4994efa",
   "metadata": {},
   "outputs": [
    {
     "name": "stdout",
     "output_type": "stream",
     "text": [
      "            rut  level criticidad\n",
      "0  18.957.219-0    7.0        NaN\n",
      "1  12.645.553-4    8.0        NaN\n"
     ]
    }
   ],
   "source": [
    "def formatear_rut(rut):\n",
    "    if pd.isna(rut):\n",
    "        return rut\n",
    "    \n",
    "    # Convertir a string y limpiar espacios\n",
    "    rut_str = str(rut).strip()\n",
    "    \n",
    "    # Verificar que tenga al menos 2 caracteres\n",
    "    if len(rut_str) < 2:\n",
    "        return rut_str\n",
    "    \n",
    "    # Separar el dígito verificador (último carácter)\n",
    "    cuerpo = rut_str[:-1]\n",
    "    dv = rut_str[-1]\n",
    "    \n",
    "    # Formatear con puntos de derecha a izquierda\n",
    "    resultado = \"\"\n",
    "    for i, digito in enumerate(cuerpo[::-1]):\n",
    "        if i > 0 and i % 3 == 0:\n",
    "            resultado = \".\" + resultado\n",
    "        resultado = digito + resultado\n",
    "    \n",
    "    return f\"{resultado}-{dv}\"\n",
    "\n",
    "# Aplicar al DataFrame\n",
    "df_niveles_limpio['rut'] = df_niveles_limpio['rut'].apply(formatear_rut)\n",
    "print(df_niveles_limpio.head(2))"
   ]
  },
  {
   "cell_type": "code",
   "execution_count": 101,
   "id": "20b363c4",
   "metadata": {},
   "outputs": [],
   "source": [
    "# Entorno Windows\n",
    "DB_HOST = \"192.168.245.33\"\n",
    "DB_USER = \"compensaciones_rrhh\"\n",
    "DB_PASSWORD = \"_Cramercomp2025_\"\n",
    "DB_NAME = \"rrhh_app\"\n",
    "\n",
    "def get_database_config():\n",
    "    return {\n",
    "        \"host\": DB_HOST,\n",
    "        \"user\": DB_USER,\n",
    "        \"password\": DB_PASSWORD,\n",
    "        \"database\": DB_NAME\n",
    "    }"
   ]
  },
  {
   "cell_type": "code",
   "execution_count": 102,
   "id": "4df8d26f",
   "metadata": {},
   "outputs": [],
   "source": [
    "def insertar_datos(df_niveles_limpio):\n",
    "    try:\n",
    "        conexion = pymysql.connect(**get_database_config())\n",
    "        cursor = conexion.cursor()\n",
    "\n",
    "        crear_tabla_sql = \"\"\"\n",
    "        CREATE TABLE IF NOT EXISTS rrhh_app.position_level (\n",
    "            id INT AUTO_INCREMENT PRIMARY KEY,\n",
    "            rut VARCHAR(20),\n",
    "            level FLOAT,\n",
    "            criticidad VARCHAR(255)\n",
    "        );\n",
    "        \"\"\"\n",
    "        cursor.execute(crear_tabla_sql)\n",
    "\n",
    "        # Convertir a lista de diccionarios reemplazando NaN\n",
    "        registros = df_niveles_limpio.replace({np.nan: None}).to_dict('records')\n",
    "\n",
    "        for registro in registros:\n",
    "            sql = \"\"\"\n",
    "                INSERT INTO rrhh_app.position_level (rut, level, criticidad)\n",
    "                VALUES (%s, %s, %s)\n",
    "            \"\"\"\n",
    "            cursor.execute(sql, (registro['rut'], registro['level'], registro['criticidad']))\n",
    "\n",
    "        conexion.commit()\n",
    "        print(\"✅ Inserción completada con éxito\")\n",
    "\n",
    "    except Exception as e:\n",
    "        if conexion:\n",
    "            conexion.rollback()\n",
    "        print(f\"Error actualizando BD: {e}\")\n",
    "        return False\n",
    "\n",
    "    finally:\n",
    "        if conexion:\n",
    "            cursor.close()\n",
    "            conexion.close()"
   ]
  },
  {
   "cell_type": "code",
   "execution_count": 103,
   "id": "975262de",
   "metadata": {},
   "outputs": [
    {
     "name": "stdout",
     "output_type": "stream",
     "text": [
      "✅ Inserción completada con éxito\n"
     ]
    }
   ],
   "source": [
    "insertar_datos(df_niveles_limpio)"
   ]
  },
  {
   "cell_type": "code",
   "execution_count": null,
   "id": "fcea2008",
   "metadata": {},
   "outputs": [],
   "source": []
  }
 ],
 "metadata": {
  "kernelspec": {
   "display_name": "entorno_compensaciones",
   "language": "python",
   "name": "python3"
  },
  "language_info": {
   "codemirror_mode": {
    "name": "ipython",
    "version": 3
   },
   "file_extension": ".py",
   "mimetype": "text/x-python",
   "name": "python",
   "nbconvert_exporter": "python",
   "pygments_lexer": "ipython3",
   "version": "3.13.6"
  }
 },
 "nbformat": 4,
 "nbformat_minor": 5
}
