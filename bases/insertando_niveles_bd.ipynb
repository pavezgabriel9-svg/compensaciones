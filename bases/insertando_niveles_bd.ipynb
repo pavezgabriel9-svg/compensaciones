{
 "cells": [
  {
   "cell_type": "code",
   "execution_count": 19,
   "id": "08b2ab87",
   "metadata": {},
   "outputs": [],
   "source": [
    "import pandas as pd\n",
    "import matplotlib.pyplot as plt\n",
    "import numpy as np\n",
    "import pymysql"
   ]
  },
  {
   "cell_type": "code",
   "execution_count": 20,
   "id": "ffce6b4c",
   "metadata": {},
   "outputs": [],
   "source": [
    "df_niveles = pd.read_excel(r\"C:\\Users\\gpavez\\Desktop\\Compensaciones\\git\\compensaciones\\excels\\reporte_personas_cargos_chile.xlsx\", sheet_name=\"Cargos\")"
   ]
  },
  {
   "cell_type": "code",
   "execution_count": 21,
   "id": "eff38e92",
   "metadata": {},
   "outputs": [
    {
     "data": {
      "text/plain": [
       "Index(['cargo', 'sueldo minimo', 'sueldo maximo', 'Niveles', 'Sub_niveles',\n",
       "       'Ob.'],\n",
       "      dtype='object')"
      ]
     },
     "execution_count": 21,
     "metadata": {},
     "output_type": "execute_result"
    }
   ],
   "source": [
    "df_niveles.columns"
   ]
  },
  {
   "cell_type": "code",
   "execution_count": 22,
   "id": "32a53935",
   "metadata": {},
   "outputs": [
    {
     "data": {
      "text/html": [
       "<div>\n",
       "<style scoped>\n",
       "    .dataframe tbody tr th:only-of-type {\n",
       "        vertical-align: middle;\n",
       "    }\n",
       "\n",
       "    .dataframe tbody tr th {\n",
       "        vertical-align: top;\n",
       "    }\n",
       "\n",
       "    .dataframe thead th {\n",
       "        text-align: right;\n",
       "    }\n",
       "</style>\n",
       "<table border=\"1\" class=\"dataframe\">\n",
       "  <thead>\n",
       "    <tr style=\"text-align: right;\">\n",
       "      <th></th>\n",
       "      <th>cargo</th>\n",
       "      <th>niveles</th>\n",
       "    </tr>\n",
       "  </thead>\n",
       "  <tbody>\n",
       "    <tr>\n",
       "      <th>0</th>\n",
       "      <td>Abogado</td>\n",
       "      <td>7</td>\n",
       "    </tr>\n",
       "    <tr>\n",
       "      <th>1</th>\n",
       "      <td>Administrador Servidores</td>\n",
       "      <td>7</td>\n",
       "    </tr>\n",
       "    <tr>\n",
       "      <th>2</th>\n",
       "      <td>Administrativo Bodega Despacho</td>\n",
       "      <td>5</td>\n",
       "    </tr>\n",
       "    <tr>\n",
       "      <th>3</th>\n",
       "      <td>Analista Contable</td>\n",
       "      <td>6</td>\n",
       "    </tr>\n",
       "    <tr>\n",
       "      <th>4</th>\n",
       "      <td>Analista Control De Calidad Muestras</td>\n",
       "      <td>4</td>\n",
       "    </tr>\n",
       "  </tbody>\n",
       "</table>\n",
       "</div>"
      ],
      "text/plain": [
       "                                  cargo  niveles\n",
       "0                               Abogado        7\n",
       "1              Administrador Servidores        7\n",
       "2        Administrativo Bodega Despacho        5\n",
       "3                     Analista Contable        6\n",
       "4  Analista Control De Calidad Muestras        4"
      ]
     },
     "execution_count": 22,
     "metadata": {},
     "output_type": "execute_result"
    }
   ],
   "source": [
    "df_niveles_limpio = df_niveles.drop(['sueldo minimo', \"sueldo maximo\", \"Sub_niveles\", \"Ob.\" ], axis=1)\n",
    "df_niveles_limpio = df_niveles_limpio.rename(columns={'Niveles':'niveles'})\n",
    "df_niveles_limpio.head()"
   ]
  },
  {
   "cell_type": "code",
   "execution_count": null,
   "id": "20b363c4",
   "metadata": {},
   "outputs": [],
   "source": [
    "# Entorno Windows\n",
    "DB_HOST = \"192.168.245.33\"\n",
    "DB_USER = \"compensaciones_rrhh\"\n",
    "DB_PASSWORD = \"_Cramercomp2025_\"\n",
    "DB_NAME = \"rrhh_app\"\n",
    "\n",
    "def get_database_config():\n",
    "    return {\n",
    "        \"host\": DB_HOST,\n",
    "        \"user\": DB_USER,\n",
    "        \"password\": DB_PASSWORD,\n",
    "        \"database\": DB_NAME\n",
    "    }"
   ]
  },
  {
   "cell_type": "code",
   "execution_count": 24,
   "id": "4df8d26f",
   "metadata": {},
   "outputs": [],
   "source": [
    "def insertar_datos():\n",
    "    conexion = None\n",
    "    try:\n",
    "        conexion = pymysql.connect(**get_database_config())\n",
    "        cursor = conexion.cursor()\n",
    "\n",
    "        for index, row in df_niveles_limpio.iterrows():\n",
    "            sql = \"\"\"\n",
    "                INSERT INTO rrhh_app.position_level (name_role, level)\n",
    "                VALUES (%s, %s)\n",
    "            \"\"\"\n",
    "            cursor.execute(sql, (row['cargo'], row['niveles']))\n",
    "\n",
    "        # Confirmar los cambios\n",
    "        conexion.commit()\n",
    "\n",
    "    except Exception as e:\n",
    "        if conexion:\n",
    "            conexion.rollback()\n",
    "        print(f\"Error actualizando BD: {e}\")\n",
    "        return False\n",
    "    finally:\n",
    "        if conexion:\n",
    "            cursor.close()\n",
    "            conexion.close()"
   ]
  },
  {
   "cell_type": "code",
   "execution_count": 25,
   "id": "975262de",
   "metadata": {},
   "outputs": [],
   "source": [
    "insertar_datos()"
   ]
  }
 ],
 "metadata": {
  "kernelspec": {
   "display_name": "entorno_compensaciones",
   "language": "python",
   "name": "python3"
  },
  "language_info": {
   "codemirror_mode": {
    "name": "ipython",
    "version": 3
   },
   "file_extension": ".py",
   "mimetype": "text/x-python",
   "name": "python",
   "nbconvert_exporter": "python",
   "pygments_lexer": "ipython3",
   "version": "3.13.6"
  }
 },
 "nbformat": 4,
 "nbformat_minor": 5
}
