{
 "cells": [
  {
   "cell_type": "code",
   "execution_count": 11,
   "id": "c97ccebb",
   "metadata": {},
   "outputs": [],
   "source": [
    "import os\n",
    "import datetime\n",
    "import pandas as pd\n",
    "import sqlalchemy\n",
    "import pythoncom\n",
    "import win32com.client as win32\n",
    "import numpy as np \n",
    "from dotenv import load_dotenv\n",
    "load_dotenv(override=True)\n",
    "import locale\n",
    "\n",
    "try:\n",
    "    locale.setlocale(locale.LC_TIME, 'es_ES.UTF-8')\n",
    "except locale.Error:\n",
    "    locale.setlocale(locale.LC_TIME, 'Spanish')"
   ]
  },
  {
   "cell_type": "code",
   "execution_count": 12,
   "id": "09f1d2af",
   "metadata": {},
   "outputs": [],
   "source": [
    "MYSQL_PASSWORD = os.getenv(\"DB_PASSWORD\")\n",
    "MYSQL_HOST = os.getenv(\"DB_HOST\") \n",
    "MYSQL_PORT = \"3306\"\n",
    "MYSQL_DATABASE = os.getenv(\"DB_NAME\")\n",
    "MYSQL_DRIVER = \"mysql+mysqlconnector\"\n",
    "MYSQL_USER= os.getenv(\"DB_USER\")\n",
    "\n",
    "engine = sqlalchemy.create_engine(\n",
    "    f\"{MYSQL_DRIVER}://{MYSQL_USER}:{MYSQL_PASSWORD}@{MYSQL_HOST}:{MYSQL_PORT}/{MYSQL_DATABASE}\"\n",
    ")\n",
    "\n",
    "with open(r\"C:\\Users\\gpavez\\Desktop\\Compensaciones\\git\\compensaciones\\querys\\query_cumpleaños.sql\", \"r\", encoding=\"utf-8\") as f:\n",
    "    query_cumpleaños = f.read()\n",
    "\n",
    "df = pd.read_sql(query_cumpleaños, engine)"
   ]
  },
  {
   "cell_type": "code",
   "execution_count": null,
   "id": "2889182f",
   "metadata": {},
   "outputs": [
    {
     "name": "stdout",
     "output_type": "stream",
     "text": [
      "                        full_name first_name last_name           rut  \\\n",
      "27      Manuel Segundo Bazan Lara     Manuel     Bazan  10.885.857-5   \n",
      "346  Renato Gabriel Mendoza Lagos     Renato   Mendoza  19.090.669-8   \n",
      "\n",
      "    cumpleaños                área     dirección  \\\n",
      "27  1966-10-02  Crédito Y Cobranza  Lucerna 4925   \n",
      "346 1995-10-02             Calidad  Lucerna 4925   \n",
      "\n",
      "                                          empresa  \\\n",
      "27   CARLOS CRAMER PRODUCTOS AROMÁTICOS S.A. C.I.   \n",
      "346  CARLOS CRAMER PRODUCTOS AROMÁTICOS S.A. C.I.   \n",
      "\n",
      "                          marcaje  day        marca  \n",
      "27   Las Encinas-Remoto-Limitado     2  Las Encinas  \n",
      "346        Lucerna -Reloj control    2      Lucerna  \n"
     ]
    }
   ],
   "source": [
    "df['cumpleaños'] = pd.to_datetime(df['cumpleaños'], errors='coerce')\n",
    "df.dropna(subset=['cumpleaños'], inplace=True)\n",
    "today = datetime.date.today()\n",
    "\n",
    "if today.month == 12:\n",
    "    next_month = 1\n",
    "    next_month_year = today.year + 1\n",
    "else:\n",
    "    next_month = today.month + 1\n",
    "    next_month_year = today.year\n",
    "\n",
    "current_month = today.month\n",
    "current_month_year = today.year\n",
    "\n",
    "birthdays_next_month_df = df[df['cumpleaños'].dt.month == next_month].copy()\n",
    "#birthdays_next_month_df = df[df['cumpleaños'].dt.month == current_month ].copy() #cumpleaños este mes\n",
    "\n",
    "birthdays_next_month_df['day'] = birthdays_next_month_df['cumpleaños'].dt.day\n",
    "birthdays_next_month_df = birthdays_next_month_df.sort_values(by='day')\n",
    "\n",
    "condicion = birthdays_next_month_df['marcaje'].str.contains('las encinas', case=False, na=False)\n",
    "\n",
    "birthdays_next_month_df['marca'] = np.where(condicion, 'Las Encinas', 'Lucerna')\n",
    "\n",
    "#print(birthdays_next_month_df[['marcaje', 'marca']].head())\n",
    "#print(birthdays_next_month_df.head(2))"
   ]
  },
  {
   "cell_type": "code",
   "execution_count": 14,
   "id": "71d1e58d",
   "metadata": {},
   "outputs": [],
   "source": [
    "def create_html_body(df_birthdays, month_name):\n",
    "    if df_birthdays.empty:\n",
    "        return None\n",
    "    \n",
    "    html_style = \"\"\"\n",
    "    <style>\n",
    "        body { font-family: 'Segoe UI', Tahoma, Geneva, Verdana, sans-serif; color: #333; }\n",
    "        h1 { color: #0056b3; }\n",
    "        h2 { color: #004085; border-bottom: 2px solid #ccc; padding-bottom: 5px; }\n",
    "        ul { list-style-type: none; padding-left: 0; }\n",
    "        li { background-color: #f8f9fa; margin: 5px 0; padding: 10px; border-left: 5px solid #0056b3; }\n",
    "        .footer { font-size: 0.8em; color: #777; margin-top: 20px; }\n",
    "    </style>\n",
    "    \"\"\"\n",
    "    html_content = f\"<html><head>{html_style}</head><body>\"\n",
    "    #html_content += f\"<h1>🎂 Cumpleaños del mes de {month_name.capitalize()}</h1>\"\n",
    "    html_content += f\"<p>A continuación, el listado de colaboradores que estarán de cumpleaños en {month_name.capitalize()}:</p>\"\n",
    "\n",
    "    for group_name, group_df in df_birthdays.groupby('marca'):\n",
    "        html_content += f\"<h2>📍 {group_name}</h2>\"\n",
    "        html_content += \"<ul>\"\n",
    "        for index, row in group_df.iterrows():\n",
    "            birthday_str = row['cumpleaños'].strftime('%d / %B')\n",
    "            html_content += f\"<li><b>{row['first_name']} {row['last_name']}</b> - {row['área']} - {birthday_str}</li>\"\n",
    "        html_content += \"</ul>\"\n",
    "    \n",
    "    html_content += \"<p class='footer'>Este es un correo generado automáticamente.</p>\"\n",
    "    html_content += \"</body></html>\"\n",
    "    return html_content\n",
    "\n",
    "#next_month_date = datetime.date(next_month_year, next_month, 1)\n",
    "next_month_date = datetime.date(current_month_year, current_month, 1)\n",
    "\n",
    "next_month_name = next_month_date.strftime('%B')\n",
    "\n",
    "html_body = create_html_body(birthdays_next_month_df, next_month_name)"
   ]
  },
  {
   "cell_type": "code",
   "execution_count": null,
   "id": "0af151f9",
   "metadata": {},
   "outputs": [],
   "source": [
    "def send_email_outlook(subject, html_body_content):\n",
    "    \"\"\"Envía un correo usando la aplicación de Outlook local.\"\"\"\n",
    "    \n",
    "    mail_prueba = \"gpavez@cramer.cl\"\n",
    "    mail_nicole = \"navalos@cramer.cl\"\n",
    "    try:\n",
    "        pythoncom.CoInitialize()\n",
    "        \n",
    "        outlook = win32.Dispatch(\"outlook.application\")\n",
    "        mail = outlook.CreateItem(0)     \n",
    "        mail.To = mail_prueba  \n",
    "        mail.Subject = subject\n",
    "        mail.HTMLBody = html_body_content\n",
    "        mail.Send()\n",
    "\n",
    "        pythoncom.CoUninitialize()\n",
    "    \n",
    "        print(f\"✅ Email enviado exitosamente a: {mail_prueba}\")\n",
    "        \n",
    "    except Exception as e:\n",
    "        print(f\"❌ Error enviando correo con Outlook: {e}\")"
   ]
  },
  {
   "cell_type": "code",
   "execution_count": 16,
   "id": "207ddf69",
   "metadata": {},
   "outputs": [
    {
     "name": "stdout",
     "output_type": "stream",
     "text": [
      "✅ Email enviado exitosamente a: gpavez@cramer.cl\n"
     ]
    }
   ],
   "source": [
    "if html_body:\n",
    "    email_subject = f\"🎉 Cumpleaños de {next_month_name.capitalize()}\"\n",
    "    \n",
    "    send_email_outlook(email_subject, html_body)\n",
    "else:\n",
    "    print(f\"No hay cumpleaños para el mes de {next_month_name}, no se enviará correo.\")\n"
   ]
  },
  {
   "cell_type": "code",
   "execution_count": null,
   "id": "ba9df80f",
   "metadata": {},
   "outputs": [],
   "source": []
  }
 ],
 "metadata": {
  "kernelspec": {
   "display_name": "entorno_compensaciones",
   "language": "python",
   "name": "python3"
  },
  "language_info": {
   "codemirror_mode": {
    "name": "ipython",
    "version": 3
   },
   "file_extension": ".py",
   "mimetype": "text/x-python",
   "name": "python",
   "nbconvert_exporter": "python",
   "pygments_lexer": "ipython3",
   "version": "3.13.6"
  }
 },
 "nbformat": 4,
 "nbformat_minor": 5
}
